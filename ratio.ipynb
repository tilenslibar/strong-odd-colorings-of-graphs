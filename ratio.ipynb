{
 "cells": [
  {
   "cell_type": "code",
   "execution_count": null,
   "id": "c591859a-23b6-415a-bbe5-f2f1b3f5a393",
   "metadata": {},
   "outputs": [],
   "source": [
    "%run LP.ipynb\n",
    "\n",
    "max_ratio = 0\n",
    "best_graphs = []\n",
    "\n",
    "n = 8\n",
    "    \n",
    "candidate_graphs = [G for G in graphs.nauty_geng(f\"{n} -c\")]\n",
    "    \n",
    "for G in candidate_graphs:\n",
    "    chrom_num = strong_odd_chromatic_number(G)\n",
    "    delta = G.degree_sequence()[0] \n",
    "    delta_2 = delta ** 2\n",
    "    ratio = chrom_num / delta_2\n",
    "        \n",
    "    if ratio > max_ratio:\n",
    "            max_ratio = ratio\n",
    "            best_graphs = [G]\n",
    "    elif ratio == max_ratio:\n",
    "            best_graphs.append(G)\n",
    "\n",
    "print(f\"Max:{max_ratio}\")\n",
    "print(f\"Graphs:\")\n",
    "\n",
    "for G in best_graphs:\n",
    "    G.show(layout='planar')\n",
    "\n",
    "\n"
   ]
  }
 ],
 "metadata": {
  "kernelspec": {
   "display_name": "SageMath 10.4",
   "language": "sage",
   "name": "sagemath"
  },
  "language_info": {
   "codemirror_mode": {
    "name": "ipython",
    "version": 3
   },
   "file_extension": ".py",
   "mimetype": "text/x-python",
   "name": "python",
   "nbconvert_exporter": "python",
   "pygments_lexer": "ipython3",
   "version": "3.12.8"
  }
 },
 "nbformat": 4,
 "nbformat_minor": 5
}
