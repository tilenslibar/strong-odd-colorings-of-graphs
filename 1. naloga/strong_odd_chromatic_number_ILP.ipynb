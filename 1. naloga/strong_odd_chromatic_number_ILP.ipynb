{
 "cells": [
  {
   "cell_type": "code",
   "execution_count": 30,
   "id": "cfbcd3ac-ffea-408b-9f3e-d94af60096ba",
   "metadata": {},
   "outputs": [],
   "source": [
    "def strong_odd_chromatic_number(graph, max_colors=None):\n",
    "    from sage.numerical.mip import MixedIntegerLinearProgram\n",
    "\n",
    "    n = graph.num_verts()\n",
    "    vertices = list(graph.vertices())\n",
    "    edges = list(graph.edges(labels=False))\n",
    "\n",
    "    if max_colors is None:\n",
    "        max_colors = n\n",
    "\n",
    "    mip = MixedIntegerLinearProgram(maximization=False)\n",
    "    x = mip.new_variable(binary=True)\n",
    "    y = mip.new_variable(binary=True)\n",
    "    z = mip.new_variable(integer=True, nonnegative=True)\n",
    "    t = mip.new_variable(real=True, nonnegative=True)\n",
    "\n",
    "    # Ciljna funkcija\n",
    "    mip.set_objective(t[0])\n",
    "\n",
    "    # Pogoj 1: Vsako vozlišče ima eno barvo\n",
    "    for u in vertices:\n",
    "        mip.add_constraint(sum(x[u, i] for i in range(1, max_colors + 1)) == 1)\n",
    "\n",
    "    # Pogoj 2: Sosednja vozlišča imajo različne barve\n",
    "    for u, v in edges:\n",
    "        for i in range(1, max_colors + 1):\n",
    "            mip.add_constraint(x[u, i] + x[v, i] <= 1)\n",
    "\n",
    "    # Pogoj 3: Štetje barv\n",
    "    for u in vertices:\n",
    "        for i in range(1, max_colors + 1):\n",
    "            mip.add_constraint(i * x[u, i] <= t[0])\n",
    "\n",
    "    # Pogoj 4: Katere barve se pojavijo med sosedi\n",
    "    for u in vertices:\n",
    "        for i in range(1, max_colors + 1):\n",
    "            mip.add_constraint(sum(x[v, i] for v in graph.neighbors(u)) <= n * y[u, i])\n",
    "\n",
    "    # Pogoj 5: Barve se morajo pojaviti liho mnogokrat\n",
    "    for u in vertices:\n",
    "        for i in range(1, max_colors + 1):\n",
    "            mip.add_constraint(\n",
    "                sum(x[v, i] for v in graph.neighbors(u)) == y[u, i] + 2 * z[u, i]\n",
    "            )\n",
    "\n",
    "    # Reševanje problema\n",
    "    mip.solve()\n",
    "\n",
    "    # Pridobitev optimalne vrednosti\n",
    "    chromatic_number = int(mip.get_objective_value())\n",
    "\n",
    "    return chromatic_number\n"
   ]
  }
 ],
 "metadata": {
  "kernelspec": {
   "display_name": "SageMath 10.4",
   "language": "sage",
   "name": "sagemath"
  },
  "language_info": {
   "codemirror_mode": {
    "name": "ipython",
    "version": 3
   },
   "file_extension": ".py",
   "mimetype": "text/x-python",
   "name": "python",
   "nbconvert_exporter": "python",
   "pygments_lexer": "ipython3",
   "version": "3.11.11"
  }
 },
 "nbformat": 4,
 "nbformat_minor": 5
}
