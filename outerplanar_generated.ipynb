{
 "cells": [
  {
   "cell_type": "code",
   "execution_count": null,
   "id": "747befc8-0912-41d7-a578-bf77a5e5c1f1",
   "metadata": {},
   "outputs": [],
   "source": [
    "from sage.graphs.graph_generators import graphs\n",
    "\n",
    "%run strong_odd_chromatic_number.ipynb # Uvozi funkcijo za izračun krepkega lihega kromatičnega števila in generiranje grafov.\n",
    "%run generate_outerplanar.ipynb\n",
    "\n",
    "outerplanar_graphs = generate_outerplanar_graphs(10, 1000, 0.90, 0.95, 0.05) # Seznam za shranjevanje zunanjeravninskih (outerplanar) grafov.\n",
    "\n",
    "outerplanar_graphs_chrom = [] # Seznam za shranjevanje grafov z močnim lihim kromatičnim številom večjim od 7.\n",
    "\n",
    "for G in outerplanar_graphs:\n",
    "    G.relabel() \n",
    "    if strong_odd_chromatic_number(G) > 7: # Preveri krepko liho kromatično število za vsak zunanjeravninski graf.\n",
    "        outerplanar_graphs_chrom.append(G) # Če je krepko liho kromatično število večje od 7 ga doda v seznam.\n",
    "\n",
    "for G in outerplanar_graphs_chrom: #Prikaže grafe s krepkim lihim kromatičnim številom večjim od 7.\n",
    "    G.plot(layout='planar').show()"
   ]
  }
 ],
 "metadata": {
  "kernelspec": {
   "display_name": "SageMath 10.4",
   "language": "sage",
   "name": "sagemath"
  },
  "language_info": {
   "codemirror_mode": {
    "name": "ipython",
    "version": 3
   },
   "file_extension": ".py",
   "mimetype": "text/x-python",
   "name": "python",
   "nbconvert_exporter": "python",
   "pygments_lexer": "ipython3",
   "version": "3.12.8"
  }
 },
 "nbformat": 4,
 "nbformat_minor": 5
}
