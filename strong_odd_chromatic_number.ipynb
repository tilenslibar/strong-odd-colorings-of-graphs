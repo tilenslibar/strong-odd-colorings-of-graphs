{
 "cells": [
  {
   "cell_type": "code",
   "execution_count": 1,
   "id": "3f3f7f85-6a91-494e-b9e9-1ab766f2ec48",
   "metadata": {},
   "outputs": [],
   "source": [
    "def is_regular_coloring(graph, color_list, vertex):\n",
    "    for neighbor in graph.neighbors(vertex):\n",
    "        if color_list[neighbor] == color_list[vertex]:\n",
    "            return False\n",
    "    return True\n",
    "\n",
    "\n",
    "def is_strong_odd_coloring(graph, color_list):\n",
    "    for v in graph.vertices():\n",
    "        neighbors_list = graph.neighbors(v)\n",
    "        color_counter = {}\n",
    "        for neighbor in neighbors_list:\n",
    "            color = color_list[neighbor]\n",
    "            if color in color_counter:\n",
    "                color_counter[color] += 1\n",
    "            else:\n",
    "                color_counter[color] = 1\n",
    "        for color, count in color_counter.items():\n",
    "            if count % 2 == 0 and count != 0:\n",
    "                    return False\n",
    "    return True\n",
    "\n",
    "\n",
    "def recursive_coloring(graph, k, vertex, color_list):\n",
    "    if vertex == len(graph.vertices()):\n",
    "        return is_strong_odd_coloring(graph, color_list)\n",
    "    for color in range(k):\n",
    "        color_list[vertex] = color\n",
    "        if is_regular_coloring(graph, color_list, vertex):\n",
    "            if recursive_coloring(graph, k, vertex + 1, color_list):\n",
    "                return True\n",
    "        color_list[vertex] = -1\n",
    "    return False\n",
    "\n",
    "\n",
    "def strong_odd_chromatic_number(graph):\n",
    "    vertex_count = len(graph.vertices())\n",
    "    for k in range(1, vertex_count + 1):\n",
    "        color_list = [-1] * vertex_count\n",
    "        if recursive_coloring(graph, k, 0, color_list):\n",
    "            return k\n",
    "    return -1\n"
   ]
  }
 ],
 "metadata": {
  "kernelspec": {
   "display_name": "SageMath 10.4",
   "language": "sage",
   "name": "sagemath"
  },
  "language_info": {
   "codemirror_mode": {
    "name": "ipython",
    "version": 3
   },
   "file_extension": ".py",
   "mimetype": "text/x-python",
   "name": "python",
   "nbconvert_exporter": "python",
   "pygments_lexer": "ipython3",
   "version": "3.12.8"
  }
 },
 "nbformat": 4,
 "nbformat_minor": 5
}
