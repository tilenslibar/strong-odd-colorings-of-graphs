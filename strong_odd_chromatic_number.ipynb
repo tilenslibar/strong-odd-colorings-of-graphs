{
 "cells": [
  {
   "cell_type": "code",
   "execution_count": 1,
   "id": "3f3f7f85-6a91-494e-b9e9-1ab766f2ec48",
   "metadata": {},
   "outputs": [],
   "source": [
    "def is_regular_coloring(graph, color_list, vertex): # Preveri, ali je trenutno barvanje regularno.\n",
    "    for neighbor in graph.neighbors(vertex):\n",
    "        if color_list[neighbor] == color_list[vertex]: # Če ima katero od sosednjih vozlišč isto barvo kot podano vozlišče, vrne False.\n",
    "            return False\n",
    "    return True # Če noben sosed nima iste barve, torej je barvanje regularno, vrne True.\n",
    "\n",
    "def is_strong_odd_coloring(graph, color_list): # Preveri, ali je barvanje grafa krepko liho barvanje.\n",
    "    for v in graph.vertices():\n",
    "        neighbors_list = graph.neighbors(v) # Pridobi seznam sosedov trenutnega vozlišča \"v\".\n",
    "        color_counter = {} # Prešteje število pojavitev vsake barve med sosedi.\n",
    "        for neighbor in neighbors_list:\n",
    "            color = color_list[neighbor]\n",
    "            if color in color_counter:\n",
    "                color_counter[color] += 1\n",
    "            else:\n",
    "                color_counter[color] = 1\n",
    "        for color, count in color_counter.items(): # Preveri, ali katerakoli barva med sosedi nastopa s sodim številom.\n",
    "            if count % 2 == 0 and count != 0: # Če obstaja barva s sodim številom pojavitev, vrne False.\n",
    "                return False\n",
    "    return True # Če vse barve izpolnjujejo pogoje, vrne True.\n",
    "\n",
    "def recursive_coloring(graph, k, vertex, color_list): # Rekurzivno barvanje grafa s \"k\" barvami.\n",
    "    if vertex == len(graph.vertices()): # Če smo obarvali vsa vozlišča, preveri, ali je barvanje veljavno.\n",
    "        return is_strong_odd_coloring(graph, color_list)\n",
    "    for color in range(k):     # Poskusi vsako barvo od 0 do k-1 za trenutno vozlišče.\n",
    "        color_list[vertex] = color\n",
    "        if is_regular_coloring(graph, color_list, vertex): # Preveri, ali je trenutna izbira barve regularna.\n",
    "            if recursive_coloring(graph, k, vertex + 1, color_list): # Nadaljuje z barvanjem na naslednjem vozlišču.\n",
    "                return True\n",
    "        color_list[vertex] = -1 # Če barva ni prava ponastavi barvo vozlišča.\n",
    "    return False # Če nobena barva ne deluje, vrne False.\n",
    "\n",
    "def strong_odd_chromatic_number(graph): # Poišče krepko liho kromatično število grafa.\n",
    "    vertex_count = len(graph.vertices())\n",
    "    for k in range(1, vertex_count + 1):\n",
    "        color_list = [-1] * vertex_count  # Začetni seznam barv, kjer je \"-1\" neobarvano.\n",
    "        if recursive_coloring(graph, k, 0, color_list): # Preveri, ali je možno barvati graf s \"k\" barvami.\n",
    "            return k"
   ]
  }
 ],
 "metadata": {
  "kernelspec": {
   "display_name": "SageMath 10.4",
   "language": "sage",
   "name": "sagemath"
  },
  "language_info": {
   "codemirror_mode": {
    "name": "ipython",
    "version": 3
   },
   "file_extension": ".py",
   "mimetype": "text/x-python",
   "name": "python",
   "nbconvert_exporter": "python",
   "pygments_lexer": "ipython3",
   "version": "3.12.8"
  }
 },
 "nbformat": 4,
 "nbformat_minor": 5
}
