{
 "cells": [
  {
   "cell_type": "code",
   "execution_count": null,
   "id": "7080c86e-bb88-4477-bbe8-d6cca4aa1310",
   "metadata": {},
   "outputs": [],
   "source": [
    "from sage.graphs.graph_generators import graphs\n",
    "from collections import defaultdict\n",
    "\n",
    "%run strong_odd_chromatic_number.ipynb\n",
    "\n",
    "n = 5\n",
    "\n",
    "outerplanar_graphs = []\n",
    "\n",
    "for G in graphs.nauty_geng(f\"{n} -c\"):\n",
    "        if G.is_circular_planar(G):\n",
    "            outerplanar_graphs.append(G)\n",
    "            \n",
    "outerplanar_graphs_chrom = []\n",
    "\n",
    "for G in outerplanar_graphs:\n",
    "    if strong_odd_chromatic_number(G) > 5:\n",
    "        outerplanar_graphs_chrom.append(G)\n",
    "\n",
    "for G in outerplanar_graphs_chrom:      \n",
    "    print(G)\n",
    "    G.plot(layout='planar').show()\n"
   ]
  }
 ],
 "metadata": {
  "kernelspec": {
   "display_name": "SageMath 10.4",
   "language": "sage",
   "name": "sagemath"
  },
  "language_info": {
   "codemirror_mode": {
    "name": "ipython",
    "version": 3
   },
   "file_extension": ".py",
   "mimetype": "text/x-python",
   "name": "python",
   "nbconvert_exporter": "python",
   "pygments_lexer": "ipython3",
   "version": "3.12.8"
  }
 },
 "nbformat": 4,
 "nbformat_minor": 5
}
