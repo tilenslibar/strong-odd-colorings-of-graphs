{
 "cells": [
  {
   "cell_type": "code",
   "execution_count": 20,
   "id": "4670c6df-1f54-4045-96ee-003432679116",
   "metadata": {},
   "outputs": [
    {
     "ename": "KeyboardInterrupt",
     "evalue": "",
     "output_type": "error",
     "traceback": [
      "\u001b[0;31m---------------------------------------------------------------------------\u001b[0m",
      "\u001b[0;31mKeyboardInterrupt\u001b[0m                         Traceback (most recent call last)",
      "Cell \u001b[0;32mIn[20], line 44\u001b[0m\n\u001b[1;32m     41\u001b[0m     H\u001b[38;5;241m.\u001b[39mshow()\n\u001b[1;32m     42\u001b[0m     cartesian\u001b[38;5;241m.\u001b[39mshow()\n\u001b[0;32m---> 44\u001b[0m \u001b[38;5;28;01mif\u001b[39;00m chrom_GH \u001b[38;5;241m==\u001b[39m \u001b[43mstrong_odd_chromatic_number\u001b[49m\u001b[43m(\u001b[49m\u001b[43mstrong\u001b[49m\u001b[43m)\u001b[49m:\n\u001b[1;32m     45\u001b[0m     found_strong \u001b[38;5;241m=\u001b[39m \u001b[38;5;28;01mTrue\u001b[39;00m\n\u001b[1;32m     46\u001b[0m     \u001b[38;5;28mprint\u001b[39m(\u001b[38;5;124mf\u001b[39m\u001b[38;5;124m\"\u001b[39m\u001b[38;5;124mEquality holds for strong product\u001b[39m\u001b[38;5;124m\"\u001b[39m)\n",
      "File \u001b[0;32m/tmp/ipykernel_1420/2573527884.py:40\u001b[0m, in \u001b[0;36mstrong_odd_chromatic_number\u001b[0;34m(graph)\u001b[0m\n\u001b[1;32m     38\u001b[0m \u001b[38;5;28;01mfor\u001b[39;00m k \u001b[38;5;129;01min\u001b[39;00m \u001b[38;5;28mrange\u001b[39m(Integer(\u001b[38;5;241m1\u001b[39m), vertex_count \u001b[38;5;241m+\u001b[39m Integer(\u001b[38;5;241m1\u001b[39m)):\n\u001b[1;32m     39\u001b[0m     color_list \u001b[38;5;241m=\u001b[39m [\u001b[38;5;241m-\u001b[39mInteger(\u001b[38;5;241m1\u001b[39m)] \u001b[38;5;241m*\u001b[39m vertex_count\n\u001b[0;32m---> 40\u001b[0m     \u001b[38;5;28;01mif\u001b[39;00m \u001b[43mrecursive_coloring\u001b[49m\u001b[43m(\u001b[49m\u001b[43mgraph\u001b[49m\u001b[43m,\u001b[49m\u001b[43m \u001b[49m\u001b[43mk\u001b[49m\u001b[43m,\u001b[49m\u001b[43m \u001b[49m\u001b[43mInteger\u001b[49m\u001b[43m(\u001b[49m\u001b[38;5;241;43m0\u001b[39;49m\u001b[43m)\u001b[49m\u001b[43m,\u001b[49m\u001b[43m \u001b[49m\u001b[43mcolor_list\u001b[49m\u001b[43m)\u001b[49m:\n\u001b[1;32m     41\u001b[0m         \u001b[38;5;28;01mreturn\u001b[39;00m k\n\u001b[1;32m     42\u001b[0m \u001b[38;5;28;01mreturn\u001b[39;00m \u001b[38;5;241m-\u001b[39mInteger(\u001b[38;5;241m1\u001b[39m)\n",
      "File \u001b[0;32m/tmp/ipykernel_1420/2573527884.py:30\u001b[0m, in \u001b[0;36mrecursive_coloring\u001b[0;34m(graph, k, vertex, color_list)\u001b[0m\n\u001b[1;32m     28\u001b[0m color_list[vertex] \u001b[38;5;241m=\u001b[39m color\n\u001b[1;32m     29\u001b[0m \u001b[38;5;28;01mif\u001b[39;00m is_regular_coloring(graph, color_list, vertex):\n\u001b[0;32m---> 30\u001b[0m     \u001b[38;5;28;01mif\u001b[39;00m \u001b[43mrecursive_coloring\u001b[49m\u001b[43m(\u001b[49m\u001b[43mgraph\u001b[49m\u001b[43m,\u001b[49m\u001b[43m \u001b[49m\u001b[43mk\u001b[49m\u001b[43m,\u001b[49m\u001b[43m \u001b[49m\u001b[43mvertex\u001b[49m\u001b[43m \u001b[49m\u001b[38;5;241;43m+\u001b[39;49m\u001b[43m \u001b[49m\u001b[43mInteger\u001b[49m\u001b[43m(\u001b[49m\u001b[38;5;241;43m1\u001b[39;49m\u001b[43m)\u001b[49m\u001b[43m,\u001b[49m\u001b[43m \u001b[49m\u001b[43mcolor_list\u001b[49m\u001b[43m)\u001b[49m:\n\u001b[1;32m     31\u001b[0m         \u001b[38;5;28;01mreturn\u001b[39;00m \u001b[38;5;28;01mTrue\u001b[39;00m\n\u001b[1;32m     32\u001b[0m color_list[vertex] \u001b[38;5;241m=\u001b[39m \u001b[38;5;241m-\u001b[39mInteger(\u001b[38;5;241m1\u001b[39m)\n",
      "File \u001b[0;32m/tmp/ipykernel_1420/2573527884.py:30\u001b[0m, in \u001b[0;36mrecursive_coloring\u001b[0;34m(graph, k, vertex, color_list)\u001b[0m\n\u001b[1;32m     28\u001b[0m color_list[vertex] \u001b[38;5;241m=\u001b[39m color\n\u001b[1;32m     29\u001b[0m \u001b[38;5;28;01mif\u001b[39;00m is_regular_coloring(graph, color_list, vertex):\n\u001b[0;32m---> 30\u001b[0m     \u001b[38;5;28;01mif\u001b[39;00m \u001b[43mrecursive_coloring\u001b[49m\u001b[43m(\u001b[49m\u001b[43mgraph\u001b[49m\u001b[43m,\u001b[49m\u001b[43m \u001b[49m\u001b[43mk\u001b[49m\u001b[43m,\u001b[49m\u001b[43m \u001b[49m\u001b[43mvertex\u001b[49m\u001b[43m \u001b[49m\u001b[38;5;241;43m+\u001b[39;49m\u001b[43m \u001b[49m\u001b[43mInteger\u001b[49m\u001b[43m(\u001b[49m\u001b[38;5;241;43m1\u001b[39;49m\u001b[43m)\u001b[49m\u001b[43m,\u001b[49m\u001b[43m \u001b[49m\u001b[43mcolor_list\u001b[49m\u001b[43m)\u001b[49m:\n\u001b[1;32m     31\u001b[0m         \u001b[38;5;28;01mreturn\u001b[39;00m \u001b[38;5;28;01mTrue\u001b[39;00m\n\u001b[1;32m     32\u001b[0m color_list[vertex] \u001b[38;5;241m=\u001b[39m \u001b[38;5;241m-\u001b[39mInteger(\u001b[38;5;241m1\u001b[39m)\n",
      "    \u001b[0;31m[... skipping similar frames: recursive_coloring at line 30 (5 times)]\u001b[0m\n",
      "File \u001b[0;32m/tmp/ipykernel_1420/2573527884.py:30\u001b[0m, in \u001b[0;36mrecursive_coloring\u001b[0;34m(graph, k, vertex, color_list)\u001b[0m\n\u001b[1;32m     28\u001b[0m color_list[vertex] \u001b[38;5;241m=\u001b[39m color\n\u001b[1;32m     29\u001b[0m \u001b[38;5;28;01mif\u001b[39;00m is_regular_coloring(graph, color_list, vertex):\n\u001b[0;32m---> 30\u001b[0m     \u001b[38;5;28;01mif\u001b[39;00m \u001b[43mrecursive_coloring\u001b[49m\u001b[43m(\u001b[49m\u001b[43mgraph\u001b[49m\u001b[43m,\u001b[49m\u001b[43m \u001b[49m\u001b[43mk\u001b[49m\u001b[43m,\u001b[49m\u001b[43m \u001b[49m\u001b[43mvertex\u001b[49m\u001b[43m \u001b[49m\u001b[38;5;241;43m+\u001b[39;49m\u001b[43m \u001b[49m\u001b[43mInteger\u001b[49m\u001b[43m(\u001b[49m\u001b[38;5;241;43m1\u001b[39;49m\u001b[43m)\u001b[49m\u001b[43m,\u001b[49m\u001b[43m \u001b[49m\u001b[43mcolor_list\u001b[49m\u001b[43m)\u001b[49m:\n\u001b[1;32m     31\u001b[0m         \u001b[38;5;28;01mreturn\u001b[39;00m \u001b[38;5;28;01mTrue\u001b[39;00m\n\u001b[1;32m     32\u001b[0m color_list[vertex] \u001b[38;5;241m=\u001b[39m \u001b[38;5;241m-\u001b[39mInteger(\u001b[38;5;241m1\u001b[39m)\n",
      "File \u001b[0;32m/tmp/ipykernel_1420/2573527884.py:32\u001b[0m, in \u001b[0;36mrecursive_coloring\u001b[0;34m(graph, k, vertex, color_list)\u001b[0m\n\u001b[1;32m     30\u001b[0m         \u001b[38;5;28;01mif\u001b[39;00m recursive_coloring(graph, k, vertex \u001b[38;5;241m+\u001b[39m Integer(\u001b[38;5;241m1\u001b[39m), color_list):\n\u001b[1;32m     31\u001b[0m             \u001b[38;5;28;01mreturn\u001b[39;00m \u001b[38;5;28;01mTrue\u001b[39;00m\n\u001b[0;32m---> 32\u001b[0m     color_list[vertex] \u001b[38;5;241m=\u001b[39m \u001b[38;5;241m-\u001b[39m\u001b[43mInteger\u001b[49m\u001b[43m(\u001b[49m\u001b[38;5;241;43m1\u001b[39;49m\u001b[43m)\u001b[49m\n\u001b[1;32m     33\u001b[0m \u001b[38;5;28;01mreturn\u001b[39;00m \u001b[38;5;28;01mFalse\u001b[39;00m\n",
      "File \u001b[0;32msignals.pyx:355\u001b[0m, in \u001b[0;36mcysignals.signals.python_check_interrupt\u001b[0;34m()\u001b[0m\n",
      "\u001b[0;31mKeyboardInterrupt\u001b[0m: "
     ]
    }
   ],
   "source": [
    "%run strong_odd_chromatic_number.ipynb\n",
    "\n",
    "n = 3\n",
    "candidates = []\n",
    "\n",
    "for G in graphs.nauty_geng(f\"{n} -c\"):\n",
    "    G.relabel(range(len(G.vertices())))\n",
    "    candidates.append(G)\n",
    "\n",
    "found_direct = False\n",
    "found_cartesian = False\n",
    "found_strong = False\n",
    "\n",
    "for G in candidates:\n",
    "    for H in candidates:\n",
    "        chrom_G = strong_odd_chromatic_number(G)\n",
    "        chrom_H = strong_odd_chromatic_number(H)\n",
    "\n",
    "        direct = G.tensor_product(H)\n",
    "        direct.relabel(range(len(direct.vertices())))\n",
    "\n",
    "        cartesian = G.cartesian_product(H)\n",
    "        cartesian.relabel(range(len(cartesian.vertices())))\n",
    "\n",
    "        strong = G.strong_product(H)\n",
    "        strong.relabel(range(len(strong.vertices())))\n",
    "\n",
    "        chrom_GH = chrom_G * chrom_H\n",
    "\n",
    "        if chrom_GH == strong_odd_chromatic_number(direct):\n",
    "            found_direct = True\n",
    "            print(f\"Equality holds for direct product\")\n",
    "            G.show()\n",
    "            H.show()\n",
    "            direct.show()\n",
    "\n",
    "        if chrom_GH == strong_odd_chromatic_number(cartesian):\n",
    "            found_cartesian = True\n",
    "            print(f\"Equality holds for cartesian product\")\n",
    "            G.show()\n",
    "            H.show()\n",
    "            cartesian.show()\n",
    "\n",
    "        if chrom_GH == strong_odd_chromatic_number(strong):\n",
    "            found_strong = True\n",
    "            print(f\"Equality holds for strong product\")\n",
    "            G.show()\n",
    "            H.show()\n",
    "            strong.show()\n",
    "\n",
    "\n",
    "if not found_direct:\n",
    "    print(f\"No equality holds for direct products\")\n",
    "if not found_cartesian:\n",
    "    print(f\"No equality holds for cartesian products\")\n",
    "if not found_strong:\n",
    "    print(f\"No equality holds for strong products\")\n",
    "\n"
   ]
  }
 ],
 "metadata": {
  "kernelspec": {
   "display_name": "SageMath 10.4",
   "language": "sage",
   "name": "sagemath"
  },
  "language_info": {
   "codemirror_mode": {
    "name": "ipython",
    "version": 3
   },
   "file_extension": ".py",
   "mimetype": "text/x-python",
   "name": "python",
   "nbconvert_exporter": "python",
   "pygments_lexer": "ipython3",
   "version": "3.12.8"
  }
 },
 "nbformat": 4,
 "nbformat_minor": 5
}
