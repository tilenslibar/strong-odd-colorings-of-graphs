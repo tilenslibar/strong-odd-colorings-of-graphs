{
 "cells": [
  {
   "cell_type": "code",
   "execution_count": null,
   "id": "0fdb54c4-9ccb-4fef-85a7-b763e606a233",
   "metadata": {},
   "outputs": [],
   "source": [
    "%run strong_odd_chromatic_number_ILP.ipynb # Uvozi funkcijo za izračun krepkega lihega kromatičnega števila.\n",
    "\n",
    "max_ratio = 0 # Največje razmerje.\n",
    "best_graphs = [] # Seznam grafov z največjim razmerjem.\n",
    "candidate_graphs = [] # Seznam kandidatov.\n",
    "\n",
    "n = 8  # Število vozlišč grafov.\n",
    "k = 1 # Število kandidatov.\n",
    "p = 0.5 # Verjetnost za povezave.\n",
    "\n",
    "while len(candidate_graphs) < k:\n",
    "    G = graphs.RandomGNP(n, p) # Generira \"k\" povezanih grafov z \"n\" vozlišči.\n",
    "    if G.is_connected():\n",
    "        candidate_graphs.append(G)\n",
    "        \n",
    "for G in candidate_graphs: # Preveri kandidate za najboljši graf glede na razmerje.\n",
    "    chrom_num = strong_odd_chromatic_number(G)  # Izračuna krepko liho kromatično število.\n",
    "    delta = G.degree_sequence()[0]  # Pridobi najvišjo stopnjo grafa.\n",
    "    delta_2 = delta ** 2  # Kvadrat najvišje stopnje.\n",
    "    ratio = chrom_num / delta_2  # Izračuna razmerje.\n",
    "\n",
    "    if ratio > max_ratio: # Posodobi največje razmerje in seznam grafov.\n",
    "        max_ratio = ratio\n",
    "        best_graphs = [G]\n",
    "    elif ratio == max_ratio:\n",
    "        best_graphs.append(G) # Doda graf v seznam, če ima enako največje razmerje.\n",
    "\n",
    "print(f\"Maximum ratio:{max_ratio}\")  # Izpiše največje razmerje.\n",
    "print(f\"Graphs:\")\n",
    "\n",
    "for G in best_graphs: # Prikaže grafe z največjim razmerjem.\n",
    "    G.show(layout='planar')\n"
   ]
  }
 ],
 "metadata": {
  "kernelspec": {
   "display_name": "SageMath 10.4",
   "language": "sage",
   "name": "sagemath"
  },
  "language_info": {
   "codemirror_mode": {
    "name": "ipython",
    "version": 3
   },
   "file_extension": ".py",
   "mimetype": "text/x-python",
   "name": "python",
   "nbconvert_exporter": "python",
   "pygments_lexer": "ipython3",
   "version": "3.12.8"
  }
 },
 "nbformat": 4,
 "nbformat_minor": 5
}
