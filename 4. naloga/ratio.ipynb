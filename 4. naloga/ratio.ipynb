{
 "cells": [
  {
   "cell_type": "code",
   "execution_count": null,
   "id": "c591859a-23b6-415a-bbe5-f2f1b3f5a393",
   "metadata": {},
   "outputs": [],
   "source": [
    "%run strong_odd_chromatic_number.ipynb # Uvozi funkcijo za izračun krepkega lihega kromatičnega števila.\n",
    "\n",
    "max_ratio = 0 # Največje razmerje.\n",
    "best_graphs = [] # Seznam grafov z največjim razmerjem.\n",
    "\n",
    "n = 7  # Število vozlišč grafov.\n",
    "\n",
    "candidate_graphs = [G for G in graphs.nauty_geng(f\"{n} -c\")] # Generira vse povezane grafe z \"n\" vozlišči.\n",
    "\n",
    "for G in candidate_graphs: # Preveri kandidate za najboljši graf glede na razmerje.\n",
    "    chrom_num = strong_odd_chromatic_number(G)  # Izračuna krepko liho kromatično število.\n",
    "    delta = G.degree_sequence()[0]  # Pridobi najvišjo stopnjo grafa.\n",
    "    delta_2 = delta ** 2  # Kvadrat najvišje stopnje.\n",
    "    ratio = chrom_num / delta_2  # Izračuna razmerje.\n",
    "\n",
    "    if ratio > max_ratio: # Posodobi največje razmerje in seznam grafov.\n",
    "        max_ratio = ratio\n",
    "        best_graphs = [G]\n",
    "    elif ratio == max_ratio:\n",
    "        best_graphs.append(G) # Doda graf v seznam, če ima enako največje razmerje.\n",
    "\n",
    "print(f\"Maximum ratio:{max_ratio}\")  # Izpiše največje razmerje.\n",
    "print(f\"Graphs:\")\n",
    "\n",
    "for G in best_graphs: # Prikaže grafe z največjim razmerjem.\n",
    "    G.show(layout='planar')\n",
    "\n",
    "\n"
   ]
  }
 ],
 "metadata": {
  "kernelspec": {
   "display_name": "SageMath 10.4",
   "language": "sage",
   "name": "sagemath"
  },
  "language_info": {
   "codemirror_mode": {
    "name": "ipython",
    "version": 3
   },
   "file_extension": ".py",
   "mimetype": "text/x-python",
   "name": "python",
   "nbconvert_exporter": "python",
   "pygments_lexer": "ipython3",
   "version": "3.12.8"
  }
 },
 "nbformat": 4,
 "nbformat_minor": 5
}
