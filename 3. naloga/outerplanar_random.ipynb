{
 "cells": [
  {
   "cell_type": "code",
   "execution_count": 3,
   "id": "00045580-6881-4e07-9a64-a213d336572c",
   "metadata": {},
   "outputs": [],
   "source": [
    "import random\n",
    "from sage.graphs.graph_generators import graphs\n",
    "\n",
    "%run strong_odd_chromatic_number_ILP.ipynb # Uvozi funkcijo za izračun krepkega lihega kromatičnega števila.\n",
    "\n",
    "p = 0.5 # Verjetnost za povezave.\n",
    "n = 10  # Število vozlišč grafa.\n",
    "k = 2  # Število grafov za preverjanje.\n",
    "\n",
    "outerplanar_graphs = [] # Seznam za shranjevanje zunanjeravninskih (outerplanar) grafov.\n",
    "\n",
    "while len(outerplanar_graphs) < k: # Generira \"k\" zunanjeravninskih grafov z \"n\" vozlišči.\n",
    "    G = graphs.RandomGNP(n, p)\n",
    "    if G.is_connected():\n",
    "        if G.is_circular_planar(G): # Preveri, če je graf zunanjeravninski (outerplanar).\n",
    "            outerplanar_graphs.append(G)# Če je, ga doda v seznam zunanjeravninskih grafov.\n",
    "\n",
    "outerplanar_graphs_chrom = [] # Seznam za shranjevanje grafov z močnim lihim kromatičnim številom večjim od 7.\n",
    "\n",
    "for G in outerplanar_graphs:\n",
    "    if strong_odd_chromatic_number(G) > 6: # Preveri krepko liho kromatično število za vsak zunanjeravninski graf.\n",
    "        outerplanar_graphs_chrom.append(G) # Če je krepko liho kromatično število večje od 7 ga doda v seznam.\n",
    "\n",
    "for G in outerplanar_graphs_chrom: # Prikaže grafe s krepkim lihim kromatičnim številom večjim od 7.\n",
    "    G.plot(layout='planar').show()"
   ]
  }
 ],
 "metadata": {
  "kernelspec": {
   "display_name": "SageMath 10.4",
   "language": "sage",
   "name": "sagemath"
  },
  "language_info": {
   "codemirror_mode": {
    "name": "ipython",
    "version": 3
   },
   "file_extension": ".py",
   "mimetype": "text/x-python",
   "name": "python",
   "nbconvert_exporter": "python",
   "pygments_lexer": "ipython3",
   "version": "3.12.8"
  }
 },
 "nbformat": 4,
 "nbformat_minor": 5
}
